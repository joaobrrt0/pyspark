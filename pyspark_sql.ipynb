{
  "nbformat": 4,
  "nbformat_minor": 0,
  "metadata": {
    "colab": {
      "provenance": []
    },
    "kernelspec": {
      "name": "python3",
      "display_name": "Python 3"
    },
    "language_info": {
      "name": "python"
    }
  },
  "cells": [
    {
      "cell_type": "markdown",
      "source": [
        "#FAREMOS\n",
        "\n",
        "Entender as cidades que mais possuem quilômetros rodados\n",
        "\n",
        "Entender as cidades com as médias maiores (ou a maior)\n",
        "\n",
        "Entender as cidades com as máximas maiores (ou a maior)\n",
        "\n",
        "Entender as cidades com as minimas menores (ou a maior)\n",
        "\n",
        "Verificar qual cidade tem mais registros e analisá-los\n",
        "\n",
        "Analisar a média, máximo e mínimo desta cidade\n",
        "\n",
        "Analisar pelo campo que descreve as bikes\n",
        "\n",
        "Analisar se as bikes na maioria são de primeiro, segundo donos\n",
        "\n",
        "Gerando gráficos sobre os dados\n"
      ],
      "metadata": {
        "id": "ayPGAtHLQca_"
      }
    },
    {
      "cell_type": "code",
      "execution_count": 1,
      "metadata": {
        "colab": {
          "base_uri": "https://localhost:8080/"
        },
        "id": "JkKs-QR9PxYA",
        "outputId": "1980be02-0bcf-4284-ceae-90563c932e91"
      },
      "outputs": [
        {
          "output_type": "stream",
          "name": "stdout",
          "text": [
            "Collecting spark\n",
            "  Downloading spark-0.2.1.tar.gz (41 kB)\n",
            "\u001b[?25l     \u001b[90m━━━━━━━━━━━━━━━━━━━━━━━━━━━━━━━━━━━━━━━━\u001b[0m \u001b[32m0.0/41.0 kB\u001b[0m \u001b[31m?\u001b[0m eta \u001b[36m-:--:--\u001b[0m\r\u001b[2K     \u001b[90m━━━━━━━━━━━━━━━━━━━━━━━━━━━━━━━━━━━━━━━━\u001b[0m \u001b[32m41.0/41.0 kB\u001b[0m \u001b[31m1.6 MB/s\u001b[0m eta \u001b[36m0:00:00\u001b[0m\n",
            "\u001b[?25h  Preparing metadata (setup.py) ... \u001b[?25l\u001b[?25hdone\n",
            "Building wheels for collected packages: spark\n",
            "  Building wheel for spark (setup.py) ... \u001b[?25l\u001b[?25hdone\n",
            "  Created wheel for spark: filename=spark-0.2.1-py3-none-any.whl size=58748 sha256=e9034c5f22f7a1705d5b440f0715e1398f5f1295f2c75a2a7c43b2455c38412b\n",
            "  Stored in directory: /root/.cache/pip/wheels/6f/db/e2/945dc8c17477cf9ab56d9f9aa1fa75b75335fffff9b12d867d\n",
            "Successfully built spark\n",
            "Installing collected packages: spark\n",
            "Successfully installed spark-0.2.1\n"
          ]
        }
      ],
      "source": [
        "!pip install spark"
      ]
    },
    {
      "cell_type": "code",
      "source": [
        "from pyspark.sql import SparkSession\n",
        "SparkSession = SparkSession.builder.appName(\"Bikes\").getOrCreate()"
      ],
      "metadata": {
        "id": "j-5MyVzjQgKd"
      },
      "execution_count": 3,
      "outputs": []
    },
    {
      "cell_type": "code",
      "source": [
        "bikes = SparkSession.read.option(\"header\",\"true\").csv(\"Bikes.csv\")"
      ],
      "metadata": {
        "id": "A-vAG4VtRId4"
      },
      "execution_count": 7,
      "outputs": []
    },
    {
      "cell_type": "code",
      "source": [
        "bikes.createOrReplaceTempView(\"tab_bikes\")\n",
        "SparkSession.sql(\"select * from tab_bikes\").show()\n",
        "\n"
      ],
      "metadata": {
        "colab": {
          "base_uri": "https://localhost:8080/"
        },
        "id": "gj77mXY6RzHq",
        "outputId": "1864dc56-3660-4b4a-8e34-e86462b246db"
      },
      "execution_count": 14,
      "outputs": [
        {
          "output_type": "stream",
          "name": "stdout",
          "text": [
            "+--------------------+--------+---------+----------+------------+---+-----+-------------+\n",
            "|           bike_name|   price|     city|kms_driven|       owner|age|power|        brand|\n",
            "+--------------------+--------+---------+----------+------------+---+-----+-------------+\n",
            "|TVS Star City Plu...| 35000.0|Ahmedabad|   17654.0| First Owner|3.0|110.0|          TVS|\n",
            "|Royal Enfield Cla...|119900.0|    Delhi|   11000.0| First Owner|4.0|350.0|Royal Enfield|\n",
            "|Triumph Daytona 675R|600000.0|    Delhi|     110.0| First Owner|8.0|675.0|      Triumph|\n",
            "|TVS Apache RTR 180cc| 65000.0|Bangalore|   16329.0| First Owner|4.0|180.0|          TVS|\n",
            "|Yamaha FZ S V 2.0...| 80000.0|Bangalore|   10000.0| First Owner|3.0|150.0|       Yamaha|\n",
            "|    Yamaha FZs 150cc| 53499.0|    Delhi|   25000.0| First Owner|6.0|150.0|       Yamaha|\n",
            "|Honda CB Hornet 1...| 85000.0|    Delhi|    8200.0| First Owner|3.0|160.0|        Honda|\n",
            "|Hero Splendor Plu...| 45000.0|    Delhi|   12645.0| First Owner|3.0|100.0|         Hero|\n",
            "|Royal Enfield Thu...|145000.0|Bangalore|    9190.0| First Owner|3.0|350.0|Royal Enfield|\n",
            "|Royal Enfield Cla...| 88000.0|    Delhi|   19000.0|Second Owner|7.0|500.0|Royal Enfield|\n",
            "|Yamaha YZF-R15 2....| 72000.0|Bangalore|   20000.0| First Owner|7.0|150.0|       Yamaha|\n",
            "|   Yamaha FZ25 250cc| 95000.0|Bangalore|    9665.0| First Owner|4.0|250.0|       Yamaha|\n",
            "|  Bajaj Pulsar NS200| 78000.0|Bangalore|    9900.0| First Owner|4.0|200.0|        Bajaj|\n",
            "| Bajaj Discover 100M| 29499.0|    Delhi|   20000.0| First Owner|8.0|100.0|        Bajaj|\n",
            "| Bajaj Discover 125M| 29900.0|    Delhi|   20000.0| First Owner|7.0|125.0|        Bajaj|\n",
            "|Bajaj Pulsar NS20...| 90000.0|Bangalore|   11574.0| First Owner|3.0|200.0|        Bajaj|\n",
            "|Bajaj Pulsar RS20...|120000.0|Bangalore|   23000.0| First Owner|3.0|200.0|        Bajaj|\n",
            "|Suzuki Gixxer SF ...| 48000.0|   Mumbai|   24725.0| First Owner|5.0|150.0|       Suzuki|\n",
            "|  Benelli 302R 300CC|240000.0|   Mumbai|   15025.0|Second Owner|3.0|302.0|      Benelli|\n",
            "| Bajaj Discover 125M| 29900.0|    Delhi|   20000.0| First Owner|7.0|125.0|        Bajaj|\n",
            "+--------------------+--------+---------+----------+------------+---+-----+-------------+\n",
            "only showing top 20 rows\n",
            "\n"
          ]
        }
      ]
    },
    {
      "cell_type": "code",
      "source": [
        "SparkSession.sql(\"select city, avg(kms_driven)as media_Km from tab_bikes group by city order by media_km desc\" ).show()"
      ],
      "metadata": {
        "colab": {
          "base_uri": "https://localhost:8080/"
        },
        "id": "IHyP_pLBTCoe",
        "outputId": "35ebd3ef-39e4-4615-ce33-32c49c7dfba5"
      },
      "execution_count": 18,
      "outputs": [
        {
          "output_type": "stream",
          "name": "stdout",
          "text": [
            "+------------------+------------------+\n",
            "|              city|          media_Km|\n",
            "+------------------+------------------+\n",
            "|     Muzaffarnagar|          403833.0|\n",
            "|           Vidisha|          172082.0|\n",
            "|            Ranoli|          135000.0|\n",
            "|           Navsari|          111224.0|\n",
            "|         Osmanabad|           80000.0|\n",
            "|         Kartarpur|           75000.0|\n",
            "|             Latur|           71000.0|\n",
            "|          Motihari|           69000.0|\n",
            "|         Gangaghat|           65000.0|\n",
            "|             Hisar|           65000.0|\n",
            "|         Darbhanga|           61331.5|\n",
            "|           Jaunpur|           61000.0|\n",
            "|            Jaipur| 60106.93346573982|\n",
            "|       Chikamaglur|           60000.0|\n",
            "|           Raiwala|           60000.0|\n",
            "|             Morbi|           60000.0|\n",
            "|             Nabha|           59154.0|\n",
            "|Thiruvananthapuram|58166.666666666664|\n",
            "|             Rasra|           58000.0|\n",
            "|              Bhuj|           54400.0|\n",
            "+------------------+------------------+\n",
            "only showing top 20 rows\n",
            "\n"
          ]
        }
      ]
    },
    {
      "cell_type": "code",
      "source": [
        "SparkSession.sql(\"select city, max(kms_driven) as maximo_km from tab_bikes group by city order by maximo_km desc\").show(1)"
      ],
      "metadata": {
        "colab": {
          "base_uri": "https://localhost:8080/"
        },
        "id": "ggKwl390TlDe",
        "outputId": "c54795bd-ed9e-4fac-9413-9b16a0949174"
      },
      "execution_count": 22,
      "outputs": [
        {
          "output_type": "stream",
          "name": "stdout",
          "text": [
            "+-----+---------+\n",
            "| city|maximo_km|\n",
            "+-----+---------+\n",
            "|Anand|  99999.0|\n",
            "+-----+---------+\n",
            "only showing top 1 row\n",
            "\n"
          ]
        }
      ]
    },
    {
      "cell_type": "code",
      "source": [
        "SparkSession.sql(\"select city, min(kms_driven) as minimo_km from tab_bikes group by city order by minimo_km asc\").show(1)"
      ],
      "metadata": {
        "colab": {
          "base_uri": "https://localhost:8080/"
        },
        "id": "AogldBZcUPzY",
        "outputId": "972b2c1f-9bf7-4234-f2de-de7e862b0757"
      },
      "execution_count": 23,
      "outputs": [
        {
          "output_type": "stream",
          "name": "stdout",
          "text": [
            "+------+---------+\n",
            "|  city|minimo_km|\n",
            "+------+---------+\n",
            "|Nashik|      1.0|\n",
            "+------+---------+\n",
            "only showing top 1 row\n",
            "\n"
          ]
        }
      ]
    },
    {
      "cell_type": "code",
      "source": [
        "SparkSession.sql(\"select brand, avg(power) as media_potencia, count(*) as total from tab_bikes group by brand order by total desc\").show()"
      ],
      "metadata": {
        "colab": {
          "base_uri": "https://localhost:8080/"
        },
        "id": "7UpJMqSkUVYZ",
        "outputId": "868549cd-eab0-4ae7-b873-1fcbf44f251f"
      },
      "execution_count": 25,
      "outputs": [
        {
          "output_type": "stream",
          "name": "stdout",
          "text": [
            "+---------------+------------------+-----+\n",
            "|          brand|    media_potencia|total|\n",
            "+---------------+------------------+-----+\n",
            "|          Bajaj|196.31454561669491|11213|\n",
            "|           Hero|116.17996231155779| 6368|\n",
            "|  Royal Enfield| 366.1045955002393| 4178|\n",
            "|         Yamaha|169.35010214504595| 3916|\n",
            "|          Honda|152.67314990512335| 2108|\n",
            "|         Suzuki| 138.2445355191257| 1464|\n",
            "|            TVS| 170.9943865276664| 1247|\n",
            "|            KTM| 346.7595171773445| 1077|\n",
            "|Harley-Davidson| 758.2048846675713|  737|\n",
            "|       Kawasaki| 570.8860759493671|   79|\n",
            "|        Hyosung|             400.0|   64|\n",
            "|        Benelli| 380.2857142857143|   56|\n",
            "|       Mahindra| 192.9090909090909|   55|\n",
            "|        Triumph| 893.0769230769231|   26|\n",
            "|         Ducati|1016.1363636363636|   22|\n",
            "|            BMW|            463.75|   16|\n",
            "|           Jawa|             295.0|   10|\n",
            "|             MV|             872.5|    4|\n",
            "|         Indian|1353.3333333333333|    3|\n",
            "|          Ideal|             250.0|    2|\n",
            "+---------------+------------------+-----+\n",
            "only showing top 20 rows\n",
            "\n"
          ]
        }
      ]
    },
    {
      "cell_type": "code",
      "source": [
        "bajaj = SparkSession.sql(\"select * from tab_bikes where brand = 'Bajaj'\")"
      ],
      "metadata": {
        "id": "D1-_v9GoUziZ"
      },
      "execution_count": 26,
      "outputs": []
    },
    {
      "cell_type": "code",
      "source": [
        "bajaj.createOrReplaceTempView(\"tab_bikes2\")"
      ],
      "metadata": {
        "id": "QpBuLQaOU-AT"
      },
      "execution_count": 27,
      "outputs": []
    },
    {
      "cell_type": "code",
      "source": [
        "type(bajaj)"
      ],
      "metadata": {
        "colab": {
          "base_uri": "https://localhost:8080/",
          "height": 187
        },
        "id": "n9hDal7nVEs-",
        "outputId": "1f37dc0a-743b-4392-d1f8-cd07826ab536"
      },
      "execution_count": 28,
      "outputs": [
        {
          "output_type": "execute_result",
          "data": {
            "text/plain": [
              "pyspark.sql.dataframe.DataFrame"
            ],
            "text/html": [
              "<div style=\"max-width:800px; border: 1px solid var(--colab-border-color);\"><style>\n",
              "      pre.function-repr-contents {\n",
              "        overflow-x: auto;\n",
              "        padding: 8px 12px;\n",
              "        max-height: 500px;\n",
              "      }\n",
              "\n",
              "      pre.function-repr-contents.function-repr-contents-collapsed {\n",
              "        cursor: pointer;\n",
              "        max-height: 100px;\n",
              "      }\n",
              "    </style>\n",
              "    <pre style=\"white-space: initial; background:\n",
              "         var(--colab-secondary-surface-color); padding: 8px 12px;\n",
              "         border-bottom: 1px solid var(--colab-border-color);\"><b>pyspark.sql.dataframe.DataFrame</b><br/>def __init__(jdf: JavaObject, sql_ctx: Union[&#x27;SQLContext&#x27;, &#x27;SparkSession&#x27;])</pre><pre class=\"function-repr-contents function-repr-contents-collapsed\" style=\"\"><a class=\"filepath\" style=\"display:none\" href=\"#\">/usr/local/lib/python3.12/dist-packages/pyspark/sql/dataframe.py</a>A distributed collection of data grouped into named columns.\n",
              "\n",
              ".. versionadded:: 1.3.0\n",
              "\n",
              ".. versionchanged:: 3.4.0\n",
              "    Supports Spark Connect.\n",
              "\n",
              "Examples\n",
              "--------\n",
              "A :class:`DataFrame` is equivalent to a relational table in Spark SQL,\n",
              "and can be created using various functions in :class:`SparkSession`:\n",
              "\n",
              "&gt;&gt;&gt; people = spark.createDataFrame([\n",
              "...     {&quot;deptId&quot;: 1, &quot;age&quot;: 40, &quot;name&quot;: &quot;Hyukjin Kwon&quot;, &quot;gender&quot;: &quot;M&quot;, &quot;salary&quot;: 50},\n",
              "...     {&quot;deptId&quot;: 1, &quot;age&quot;: 50, &quot;name&quot;: &quot;Takuya Ueshin&quot;, &quot;gender&quot;: &quot;M&quot;, &quot;salary&quot;: 100},\n",
              "...     {&quot;deptId&quot;: 2, &quot;age&quot;: 60, &quot;name&quot;: &quot;Xinrong Meng&quot;, &quot;gender&quot;: &quot;F&quot;, &quot;salary&quot;: 150},\n",
              "...     {&quot;deptId&quot;: 3, &quot;age&quot;: 20, &quot;name&quot;: &quot;Haejoon Lee&quot;, &quot;gender&quot;: &quot;M&quot;, &quot;salary&quot;: 200}\n",
              "... ])\n",
              "\n",
              "Once created, it can be manipulated using the various domain-specific-language\n",
              "(DSL) functions defined in: :class:`DataFrame`, :class:`Column`.\n",
              "\n",
              "To select a column from the :class:`DataFrame`, use the apply method:\n",
              "\n",
              "&gt;&gt;&gt; age_col = people.age\n",
              "\n",
              "A more concrete example:\n",
              "\n",
              "&gt;&gt;&gt; # To create DataFrame using SparkSession\n",
              "... department = spark.createDataFrame([\n",
              "...     {&quot;id&quot;: 1, &quot;name&quot;: &quot;PySpark&quot;},\n",
              "...     {&quot;id&quot;: 2, &quot;name&quot;: &quot;ML&quot;},\n",
              "...     {&quot;id&quot;: 3, &quot;name&quot;: &quot;Spark SQL&quot;}\n",
              "... ])\n",
              "\n",
              "&gt;&gt;&gt; people.filter(people.age &gt; 30).join(\n",
              "...     department, people.deptId == department.id).groupBy(\n",
              "...     department.name, &quot;gender&quot;).agg({&quot;salary&quot;: &quot;avg&quot;, &quot;age&quot;: &quot;max&quot;}).show()\n",
              "+-------+------+-----------+--------+\n",
              "|   name|gender|avg(salary)|max(age)|\n",
              "+-------+------+-----------+--------+\n",
              "|     ML|     F|      150.0|      60|\n",
              "|PySpark|     M|       75.0|      50|\n",
              "+-------+------+-----------+--------+\n",
              "\n",
              "Notes\n",
              "-----\n",
              "A DataFrame should only be created as described above. It should not be directly\n",
              "created via using the constructor.</pre>\n",
              "      <script>\n",
              "      if (google.colab.kernel.accessAllowed && google.colab.files && google.colab.files.view) {\n",
              "        for (const element of document.querySelectorAll('.filepath')) {\n",
              "          element.style.display = 'block'\n",
              "          element.onclick = (event) => {\n",
              "            event.preventDefault();\n",
              "            event.stopPropagation();\n",
              "            google.colab.files.view(element.textContent, 80);\n",
              "          };\n",
              "        }\n",
              "      }\n",
              "      for (const element of document.querySelectorAll('.function-repr-contents')) {\n",
              "        element.onclick = (event) => {\n",
              "          event.preventDefault();\n",
              "          event.stopPropagation();\n",
              "          element.classList.toggle('function-repr-contents-collapsed');\n",
              "        };\n",
              "      }\n",
              "      </script>\n",
              "      </div>"
            ]
          },
          "metadata": {},
          "execution_count": 28
        }
      ]
    },
    {
      "cell_type": "code",
      "source": [
        "SparkSession.sql(\"select count(*) from tab_bikes2\").show()"
      ],
      "metadata": {
        "colab": {
          "base_uri": "https://localhost:8080/"
        },
        "id": "pBMI6Mk0VKdO",
        "outputId": "45b3dbd8-458f-4000-9349-1378e9396730"
      },
      "execution_count": 29,
      "outputs": [
        {
          "output_type": "stream",
          "name": "stdout",
          "text": [
            "+--------+\n",
            "|count(1)|\n",
            "+--------+\n",
            "|   11213|\n",
            "+--------+\n",
            "\n"
          ]
        }
      ]
    },
    {
      "cell_type": "code",
      "source": [
        "SparkSession.sql(\"select bike_name, avg(kms_driven) as media, max(kms_driven) as maximo, min(kms_driven) as minimo from tab_bikes group by bike_name order by 1 asc\").show(70)"
      ],
      "metadata": {
        "colab": {
          "base_uri": "https://localhost:8080/"
        },
        "id": "X9RY4nd3VZV6",
        "outputId": "c75f268a-83f9-41bb-fb4a-00f83bda4884"
      },
      "execution_count": 39,
      "outputs": [
        {
          "output_type": "stream",
          "name": "stdout",
          "text": [
            "+--------------------+------------------+-------+--------+\n",
            "|           bike_name|             media| maximo|  minimo|\n",
            "+--------------------+------------------+-------+--------+\n",
            "|   BMW F750 GS 850cc|            4600.0| 4600.0|  4600.0|\n",
            "|        BMW G 310 GS|11068.333333333334| 4241.0| 14482.0|\n",
            "|         BMW G 310 R| 8314.444444444445| 8500.0| 11000.0|\n",
            "|   BMW S 1000 RR Pro|            2600.0| 2600.0|  2600.0|\n",
            "|   BMW S 1000 XR Pro|           18000.0|18000.0| 18000.0|\n",
            "| Bajaj  Pulsar 180cc|           44815.6|90393.0| 14524.0|\n",
            "| Bajaj Avenger 150cc|           20850.0|20850.0| 20850.0|\n",
            "| Bajaj Avenger 180cc|           30312.0|30312.0| 30312.0|\n",
            "| Bajaj Avenger 200cc|35448.555555555555|62554.0| 24500.0|\n",
            "| Bajaj Avenger 220cc| 35184.07330097087| 9370.0| 10000.0|\n",
            "|Bajaj Avenger Cru...|15913.819444444445| 9900.0| 10000.0|\n",
            "|Bajaj Avenger Cru...|            1958.0| 1958.0|  1958.0|\n",
            "|Bajaj Avenger Str...|19172.886666666665| 9600.0| 10000.0|\n",
            "|Bajaj Avenger Str...|           5052.25| 7000.0|  2700.0|\n",
            "|Bajaj Avenger Str...| 9532.444444444445| 7456.0| 12000.0|\n",
            "|Bajaj Avenger Str...|10735.767680758594| 9799.0| 10500.0|\n",
            "|Bajaj Avenger Str...|24183.333333333332|35000.0|  2550.0|\n",
            "|   Bajaj Boxer AT100|           28709.0|28709.0| 28709.0|\n",
            "|   Bajaj Boxer BM150|           57691.5|87383.0| 28000.0|\n",
            "|   Bajaj Boxer CT100|           40437.0|50000.0| 21311.0|\n",
            "|  Bajaj CT 100 100cc|         25073.325| 9660.0| 10000.0|\n",
            "|  Bajaj CT 100 Alloy|           14076.5| 6087.0| 11131.0|\n",
            "|      Bajaj CT 100 B|           13900.0| 6300.0| 13000.0|\n",
            "|Bajaj CT 100 ES A...|           13271.3| 4877.0| 12000.0|\n",
            "|Bajaj CT 100 KS A...|            7498.5| 1501.0| 13496.0|\n",
            "|  Bajaj CT 100 Spoke|           14671.0|33150.0| 10841.0|\n",
            "|Bajaj CT110 ES Alloy|            1850.0| 1850.0|  1850.0|\n",
            "| Bajaj Discover 100M|32586.483870967742|75537.0| 16800.0|\n",
            "| Bajaj Discover 100T| 36833.71428571428|93968.0| 18184.0|\n",
            "|Bajaj Discover 100cc|33620.620253164554|93901.0|102892.0|\n",
            "|Bajaj Discover 110cc|           14436.6| 7285.0| 13478.0|\n",
            "| Bajaj Discover 125M|28672.470588235294| 9200.0| 12000.0|\n",
            "|Bajaj Discover 125ST| 33288.68571428571|61906.0| 13146.0|\n",
            "| Bajaj Discover 125T|           27044.5|54548.0| 13330.0|\n",
            "|Bajaj Discover 125cc|  47196.1619047619|99999.0|105000.0|\n",
            "|Bajaj Discover 12...|            9923.0| 9923.0|  9923.0|\n",
            "|Bajaj Discover 135cc| 58574.15217391304|89748.0| 13000.0|\n",
            "| Bajaj Discover 150F|30382.333333333332|50000.0| 16695.0|\n",
            "|Bajaj Discover 15...|           11014.0| 6042.0| 13500.0|\n",
            "|Bajaj Discover 15...| 49661.71428571428|82000.0| 22000.0|\n",
            "|Bajaj Discover 150cc|          32192.25|92000.0| 17540.0|\n",
            "|Bajaj Discover150...|           16547.0| 8094.0| 25000.0|\n",
            "|Bajaj Discover150...|           38000.0|38000.0| 38000.0|\n",
            "|   Bajaj Dominar 400|14977.185185185184| 9019.0| 10164.0|\n",
            "|Bajaj Dominar 400...|          20260.82| 9650.0| 10200.0|\n",
            "|Bajaj Platina  Al...|           19266.0| 9000.0| 10000.0|\n",
            "| Bajaj Platina 100cc| 21440.67055393586|92666.0| 10750.0|\n",
            "|Bajaj Platina 100...|           12417.5| 9000.0| 14616.0|\n",
            "|Bajaj Platina 110...|            6297.0| 5200.0| 14268.0|\n",
            "|Bajaj Platina 110...|           18346.0|18346.0| 18346.0|\n",
            "| Bajaj Platina 125cc| 36006.71428571428| 9131.0| 10000.0|\n",
            "|Bajaj Platina All...|           17663.0|17663.0| 17663.0|\n",
            "| Bajaj Pulsar  180cc|           27032.5|78000.0| 10000.0|\n",
            "|Bajaj Pulsar 125c...|           14009.0|14009.0| 14009.0|\n",
            "|  Bajaj Pulsar 135LS|30357.897435897437| 8713.0| 10000.0|\n",
            "|Bajaj Pulsar 135L...|41166.666666666664|45000.0| 39000.0|\n",
            "|  Bajaj Pulsar 150cc|  47209.3530259366|99000.0| 10000.0|\n",
            "|Bajaj Pulsar 150c...|           18000.0|18000.0| 18000.0|\n",
            "|Bajaj Pulsar 150c...|            3162.0| 3162.0|  3162.0|\n",
            "|Bajaj Pulsar 150c...|11533.333333333334| 4300.0| 26000.0|\n",
            "|Bajaj Pulsar 150c...|            2500.0| 2500.0|  2500.0|\n",
            "|  Bajaj Pulsar 180cc| 33042.32258064516| 9870.0| 10000.0|\n",
            "|Bajaj Pulsar 200 ...|28143.677419354837| 7230.0| 11930.0|\n",
            "|  Bajaj Pulsar 200cc|           33769.6| 6000.0| 20000.0|\n",
            "|   Bajaj Pulsar 220F|25367.514705882353|77000.0| 10000.0|\n",
            "|  Bajaj Pulsar 220cc| 31244.20408163265| 9500.0| 10147.0|\n",
            "|  Bajaj Pulsar AS150|23436.473684210527| 9400.0| 11255.0|\n",
            "|  Bajaj Pulsar AS200|17978.633333333335| 8000.0| 10000.0|\n",
            "| Bajaj Pulsar NS 200|           38484.0|49000.0| 29324.0|\n",
            "|Bajaj Pulsar NS 2...|           26500.0|48500.0| 13000.0|\n",
            "+--------------------+------------------+-------+--------+\n",
            "only showing top 70 rows\n",
            "\n"
          ]
        }
      ]
    },
    {
      "cell_type": "code",
      "source": [
        "SparkSession.sql(\"select owner,count(*) as total from tab_bikes group by owner order by 2 desc\").show()"
      ],
      "metadata": {
        "colab": {
          "base_uri": "https://localhost:8080/"
        },
        "id": "pL6H6cVvXeG6",
        "outputId": "a127e461-cfc8-4daf-c1ce-fff0614733a4"
      },
      "execution_count": 40,
      "outputs": [
        {
          "output_type": "stream",
          "name": "stdout",
          "text": [
            "+--------------------+-----+\n",
            "|               owner|total|\n",
            "+--------------------+-----+\n",
            "|         First Owner|29964|\n",
            "|        Second Owner| 2564|\n",
            "|         Third Owner|  108|\n",
            "|Fourth Owner Or More|   12|\n",
            "+--------------------+-----+\n",
            "\n"
          ]
        }
      ]
    },
    {
      "cell_type": "code",
      "source": [
        "bajaj_df = SparkSession.sql(\"select owner, count(*) as total from tab_bikes group by owner order by 2 desc\")\n",
        "bajaj_pandas = bajaj_df.toPandas()"
      ],
      "metadata": {
        "id": "PmCnY5s7XwO2"
      },
      "execution_count": 41,
      "outputs": []
    },
    {
      "cell_type": "code",
      "source": [
        "import matplotlib.pyplot as plotar\n",
        "bajaj_pandas.plot(kind = 'bar', x = 'owner', y = 'total')\n",
        "plotar.title('Como foram adquiradas as bikes')\n",
        "plotar.xlabel('Por uso')\n",
        "plotar.ylabel('Total proprietarios')\n",
        "plotar.show()"
      ],
      "metadata": {
        "colab": {
          "base_uri": "https://localhost:8080/",
          "height": 612
        },
        "id": "tWmpq6zBYBlL",
        "outputId": "5d8b7281-ee3a-4fd8-951c-fa4bd318836a"
      },
      "execution_count": 44,
      "outputs": [
        {
          "output_type": "display_data",
          "data": {
            "text/plain": [
              "<Figure size 640x480 with 1 Axes>"
            ],
            "image/png": "[encoded data removed]"
          },
          "metadata": {}
        }
      ]
    }
  ]
}