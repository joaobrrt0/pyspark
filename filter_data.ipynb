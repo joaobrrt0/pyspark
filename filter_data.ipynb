{
  "nbformat": 4,
  "nbformat_minor": 0,
  "metadata": {
    "colab": {
      "provenance": []
    },
    "kernelspec": {
      "name": "python3",
      "display_name": "Python 3"
    },
    "language_info": {
      "name": "python"
    }
  },
  "cells": [
    {
      "cell_type": "code",
      "execution_count": 1,
      "metadata": {
        "colab": {
          "base_uri": "https://localhost:8080/"
        },
        "id": "7hl5_wPTro0n",
        "outputId": "86ad9ebe-185e-4dc3-85ad-b0edeab0982d"
      },
      "outputs": [
        {
          "output_type": "stream",
          "name": "stdout",
          "text": [
            "Collecting spark\n",
            "  Downloading spark-0.2.1.tar.gz (41 kB)\n",
            "\u001b[?25l     \u001b[90m━━━━━━━━━━━━━━━━━━━━━━━━━━━━━━━━━━━━━━━━\u001b[0m \u001b[32m0.0/41.0 kB\u001b[0m \u001b[31m?\u001b[0m eta \u001b[36m-:--:--\u001b[0m\r\u001b[2K     \u001b[90m━━━━━━━━━━━━━━━━━━━━━━━━━━━━━━━━━━━━━━━━\u001b[0m \u001b[32m41.0/41.0 kB\u001b[0m \u001b[31m1.8 MB/s\u001b[0m eta \u001b[36m0:00:00\u001b[0m\n",
            "\u001b[?25h  Preparing metadata (setup.py) ... \u001b[?25l\u001b[?25hdone\n",
            "Building wheels for collected packages: spark\n",
            "  Building wheel for spark (setup.py) ... \u001b[?25l\u001b[?25hdone\n",
            "  Created wheel for spark: filename=spark-0.2.1-py3-none-any.whl size=58748 sha256=c66874ceb686d447ff5e36b36112c97a5e69ed0b9ad0e0d7b9052f67b7765de1\n",
            "  Stored in directory: /root/.cache/pip/wheels/6f/db/e2/945dc8c17477cf9ab56d9f9aa1fa75b75335fffff9b12d867d\n",
            "Successfully built spark\n",
            "Installing collected packages: spark\n",
            "Successfully installed spark-0.2.1\n"
          ]
        }
      ],
      "source": [
        "!pip install spark"
      ]
    },
    {
      "cell_type": "markdown",
      "source": [
        "#PERGUNTAS SOBRE:\n",
        "\n",
        "Há inconsistencias nos dados?\n",
        "\n",
        "É possivel identificar caractericas de sobrepeso de dados, já que este atributo não existe?\n",
        "\n",
        "Qual o resultado é possivel interpretar com a pesquisa do sobrepeso?"
      ],
      "metadata": {
        "id": "_NyunH2Vs2yK"
      }
    },
    {
      "cell_type": "code",
      "source": [
        "from pyspark.sql import SparkSession\n",
        "\n",
        "spark = SparkSession.builder.appName(\"Foodf\").getOrCreate()"
      ],
      "metadata": {
        "id": "a_5mW8B0sYvU"
      },
      "execution_count": 2,
      "outputs": []
    },
    {
      "cell_type": "code",
      "source": [
        "df = spark.read.csv(\"food_coded.csv\", header=True, inferSchema=True)"
      ],
      "metadata": {
        "id": "AZxeYR6HtS7C"
      },
      "execution_count": 10,
      "outputs": []
    },
    {
      "cell_type": "code",
      "source": [
        "df.show(10)"
      ],
      "metadata": {
        "colab": {
          "base_uri": "https://localhost:8080/"
        },
        "id": "41n1L8dBteFk",
        "outputId": "d921695e-c04b-4f31-e109-9354405a0f63"
      },
      "execution_count": 11,
      "outputs": [
        {
          "output_type": "stream",
          "name": "stdout",
          "text": [
            "+---------------+------+--------------------+----------------+------------+--------------+------+--------------------+--------------------+---------------------------+----+----------------------------+-------+--------------------+------------------+-----+--------------------+--------------------+---------------------+----------+----------+-----------+--------+----------------+-----------------+--------------------+-----------------+--------+--------------------+-----+---------+-----------+----------+---------------+--------------------+--------------------+----------------+------+-----------+------------+--------------+--------------+--------------------+----------------+--------------------+-----------------+-------------+------------+------------+------------+----------------------+----+------+---------+-----------------+---------------+-----------+-----------+--------+---------------+--------------------+\n",
            "|            GPA|Gender|           breakfast|calories_chicken|calories_day|calories_scone|coffee|        comfort_food|comfort_food_reasons|comfort_food_reasons_coded9|cook|comfort_food_reasons_coded11|cuisine|        diet_current|diet_current_coded|drink|      eating_changes|eating_changes_coded|eating_changes_coded1|eating_out|employment|ethnic_food|exercise|father_education|father_profession|         fav_cuisine|fav_cuisine_coded|fav_food|      food_childhood|fries|fruit_day|grade_level|greek_food|healthy_feeling|        healthy_meal|          ideal_diet|ideal_diet_coded|income|indian_food|italian_food|life_rewarding|marital_status| meals_dinner_friend|mother_education|   mother_profession|nutritional_check|on_off_campus|parents_cook|pay_meal_out|persian_food|self_perception_weight|soup|sports|thai_food|tortilla_calories|turkey_calories|type_sports|veggies_day|vitamins|waffle_calories|              weight|\n",
            "+---------------+------+--------------------+----------------+------------+--------------+------+--------------------+--------------------+---------------------------+----+----------------------------+-------+--------------------+------------------+-----+--------------------+--------------------+---------------------+----------+----------+-----------+--------+----------------+-----------------+--------------------+-----------------+--------+--------------------+-----+---------+-----------+----------+---------------+--------------------+--------------------+----------------+------+-----------+------------+--------------+--------------+--------------------+----------------+--------------------+-----------------+-------------+------------+------------+------------+----------------------+----+------+---------+-----------------+---------------+-----------+-----------+--------+---------------+--------------------+\n",
            "|            2.4|     2|                   1|             430|         nan|           315|     1|                none|we dont have comf...|                          9|   2|                           9|    nan|eat good and exer...|                 1|    1|         eat faster |                   1|                    1|         3|         3|          1|       1|               5|        profesor |      Arabic cuisine|                3|       1|  rice  and chicken |    2|        5|          2|         5|              2|     looks not oily |      being healthy |               8|     5|          5|           5|             1|             1|rice, chicken,  soup|               1|          unemployed|                5|            1|           1|           2|           5|                     3|   1|     1|        1|             1165|            345| car racing|          5|       1|           1315|                 187|\n",
            "|          3.654|     1|                   1|             610|           3|           420|     2|chocolate, chips,...|Stress, bored, anger|                          1|   3|                           1|      1|I eat about three...|                 2|    2|I eat out more th...|                   1|                    2|         2|         2|          4|       1|               2|   Self employed |             Italian|                1|       1|chicken and biscu...|    1|        4|          4|         4|              5|Grains, Veggies, ...|Try to eat 5-6 sm...|               3|     4|          4|           4|             1|             2|Pasta, steak, chi...|               4|           Nurse RN |                4|            1|           1|           4|           4|                     3|   1|     1|        2|              725|            690|Basketball |          4|       2|            900|                 155|\n",
            "|            3.3|     1|                   1|             720|           4|           420|     2|frozen yogurt, pi...|     stress, sadness|                          1|   1|                           1|      3|toast and fruit f...|                 3|    1|sometimes choosin...|                   1|                    3|         2|         3|          5|       2|               2|    owns business|             italian|                1|       3|mac and cheese, p...|    1|        5|          3|         5|              6|usually includes ...|i would say my id...|               6|     6|          5|           5|             7|             2|chicken and rice ...|               2|       owns business|                4|            2|           1|           3|           5|                     6|   1|     2|        5|             1165|            500|       none|          5|       1|            900|I'm not answering...|\n",
            "|            3.2|     1|                   1|             430|           3|           420|     2|Pizza, Mac and ch...|             Boredom|                          2|   2|                           2|      2|College diet, che...|                 2|    2|Accepting cheap a...|                   1|                    3|         2|         3|          5|       3|               2|        Mechanic |            Turkish |                3|       1|Beef stroganoff, ...|    2|        4|          4|         5|              7|Fresh fruits& veg...|Healthy, fresh ve...|               2|     6|          5|           5|             2|             2|    Grilled chicken |            NULL|                NULL|             NULL|         NULL|        NULL|        NULL|        NULL|                  NULL|NULL|  NULL|     NULL|             NULL|           NULL|       NULL|       NULL|    NULL|           NULL|                NULL|\n",
            "| Stuffed Shells|  NULL|                NULL|            NULL|        NULL|          NULL|  NULL|                NULL|                NULL|                       NULL|NULL|                        NULL|   NULL|                NULL|              NULL| NULL|                NULL|                NULL|                 NULL|      NULL|      NULL|       NULL|    NULL|            NULL|             NULL|                NULL|             NULL|    NULL|                NULL| NULL|     NULL|       NULL|      NULL|           NULL|                NULL|                NULL|            NULL|  NULL|       NULL|        NULL|          NULL|          NULL|                NULL|            NULL|                NULL|             NULL|         NULL|        NULL|        NULL|        NULL|                  NULL|NULL|  NULL|     NULL|             NULL|           NULL|       NULL|       NULL|    NULL|           NULL|                NULL|\n",
            "|Homemade Chili\"|     4|Special Education...|               2|           1|             1|     2|                   5|                   5|                          1|   2|                           5|    725|                 690|               nan|    3|                   1|                1315|        Not sure, 240|      NULL|      NULL|       NULL|    NULL|            NULL|             NULL|                NULL|             NULL|    NULL|                NULL| NULL|     NULL|       NULL|      NULL|           NULL|                NULL|                NULL|            NULL|  NULL|       NULL|        NULL|          NULL|          NULL|                NULL|            NULL|                NULL|             NULL|         NULL|        NULL|        NULL|        NULL|                  NULL|NULL|  NULL|     NULL|             NULL|           NULL|       NULL|       NULL|    NULL|           NULL|                NULL|\n",
            "|            3.5|     1|                   1|             720|           2|           420|     2|Ice cream, chocol...|Stress, boredom, ...|                          1|   1|                           1|      2|I try to eat heal...|                 2|    2|I have eaten gene...|                   3|                    4|         2|         2|          4|       1|               4|               IT|            Italian |                1|       3|Pasta, chicken te...|    1|        4|          4|         4|              6|A lean protein su...|Ideally I would l...|               2|     6|          2|           5|             1|             1|Chicken Parmesan,...|               5|Substance Abuse C...|                3|            1|           1|           4|           2|                     4|   1|     1|        4|              940|            500|   Softball|          4|       2|            760|                 190|\n",
            "|           2.25|     1|                   1|             610|           3|           980|     2|Candy, brownies a...|None, i don't eat...|                          4|   3|                           4|    nan|My current diet i...|                 2|    2|Eating rice every...|                   1|                    3|         1|         3|          4|       2|               1|      Taxi Driver|             African|                6|       3|Fries, plaintain ...|    1|        2|          2|         2|              4|Requires veggies,...|My ideal diet is ...|               2|     1|          5|           5|             4|             2|Anything they'd w...|               1|        Hair Braider|                1|            1|           2|           5|           5|                     5|   1|     2|        4|              940|            345|      None.|          1|       2|           1315|                 190|\n",
            "|            3.8|     2|                   1|             610|           3|           420|     2|Chocolate, ice cr...|     stress, boredom|                          1|   2|                           1|      1|I eat a lot of ch...|                 3|    1|I started eating ...|                   2|                    5|         2|         3|          5|       1|               4|       Assembler |                Thai|                4|       1|grilled chicken, ...|    1|        4|          4|         5|              4|Protein, vegetabl...|I would ideally l...|               2|     4|          5|           5|             8|             1|Grilled chicken, ...|               4|          Journalist|                4|            2|           2|           2|           5|                     4|   1|     1|        5|              940|            690|     soccer|          4|       1|           1315|                 180|\n",
            "|            3.3|     1|                   1|             720|           3|           420|     1|Ice cream, cheese...|I eat comfort foo...|                          1|   3|                           1|      1|I eat a very heal...|                 1|    2|Freshmen year i a...|                   2|                    5|         2|         2|          2|       2|               3|     Business guy|Anything american...|                5|       1|chicken, cheesey ...|    1|        5|          2|         3|              3|A healthy meal ha...|My ideal diet is ...|               2|     5|          1|           3|             3|             1|chicken, steak, p...|               2|                cook|                4|            1|           1|           5|           1|                     3|   1|     2|        1|              725|            500|       none|          4|       2|           1315|                 137|\n",
            "+---------------+------+--------------------+----------------+------------+--------------+------+--------------------+--------------------+---------------------------+----+----------------------------+-------+--------------------+------------------+-----+--------------------+--------------------+---------------------+----------+----------+-----------+--------+----------------+-----------------+--------------------+-----------------+--------+--------------------+-----+---------+-----------+----------+---------------+--------------------+--------------------+----------------+------+-----------+------------+--------------+--------------+--------------------+----------------+--------------------+-----------------+-------------+------------+------------+------------+----------------------+----+------+---------+-----------------+---------------+-----------+-----------+--------+---------------+--------------------+\n",
            "only showing top 10 rows\n",
            "\n"
          ]
        }
      ]
    },
    {
      "cell_type": "code",
      "source": [
        "df.select('mother_profession','type_sports','Gender','weight','calories_day').show(30)"
      ],
      "metadata": {
        "colab": {
          "base_uri": "https://localhost:8080/"
        },
        "id": "jS-r0WPbt9kc",
        "outputId": "43e428e4-4c4f-4871-ebee-dcd9e2ee00dd"
      },
      "execution_count": 13,
      "outputs": [
        {
          "output_type": "stream",
          "name": "stdout",
          "text": [
            "+--------------------+--------------------+------+--------------------+------------+\n",
            "|   mother_profession|         type_sports|Gender|              weight|calories_day|\n",
            "+--------------------+--------------------+------+--------------------+------------+\n",
            "|          unemployed|          car racing|     2|                 187|         nan|\n",
            "|           Nurse RN |         Basketball |     1|                 155|           3|\n",
            "|       owns business|                none|     1|I'm not answering...|           4|\n",
            "|                NULL|                NULL|     1|                NULL|           3|\n",
            "|                NULL|                NULL|  NULL|                NULL|        NULL|\n",
            "|                NULL|                NULL|     4|                NULL|           1|\n",
            "|Substance Abuse C...|            Softball|     1|                 190|           2|\n",
            "|        Hair Braider|               None.|     1|                 190|           3|\n",
            "|          Journalist|              soccer|     2|                 180|           3|\n",
            "|                cook|                none|     1|                 137|           3|\n",
            "|Elementary School...|                none|     1|                 180|         nan|\n",
            "|  Pharmaceutical rep|        field hockey|     1|                 125|           3|\n",
            "|     Chidos Cleaners|              soccer|     1|                 116|           3|\n",
            "|     Court Reporter |             Running|     1|                 110|           4|\n",
            "|Child care provider |Soccer and basket...|     2|                 264|           3|\n",
            "|      business owner|intramural volley...|     1|                 123|           3|\n",
            "|      Charity worker|              Hockey|     2|                 185|           3|\n",
            "|           Librarian|              Hockey|     2|                 180|         nan|\n",
            "|              Police|                 nan|     1|                 145|           3|\n",
            "|    stay at home mom|              hockey|     2|                 170|           3|\n",
            "|    Daycare provider|            dancing |     1|                 135|           3|\n",
            "|  physical therapist|          basketball|     2|                 165|           2|\n",
            "|             Teacher|              Soccer|     2|                 175|           3|\n",
            "|          House wife|              Tennis|     2|                 195|           3|\n",
            "|       Underwiriter |   tennis soccer gym|     2|                 185|           3|\n",
            "|         Beautician |     Gaelic Football|     2|                 185|           3|\n",
            "|          Unemployed|                none|     1|                 105|           2|\n",
            "|                NULL|                NULL|     1|                NULL|           3|\n",
            "|                NULL|                NULL|     3|                NULL|           1|\n",
            "|Doctors Billing A...|              Hockey|     2|                 160|           2|\n",
            "+--------------------+--------------------+------+--------------------+------------+\n",
            "only showing top 30 rows\n",
            "\n"
          ]
        }
      ]
    },
    {
      "cell_type": "code",
      "source": [
        "from pyspark.sql.functions import *\n",
        "resultdf1 = df.filter(df.weight.isNotNull()).select('mother_profession','type_sports','Gender','weight','calories_day')"
      ],
      "metadata": {
        "id": "HYSQhmpXuUr5"
      },
      "execution_count": 14,
      "outputs": []
    },
    {
      "cell_type": "code",
      "source": [
        "resultdf1.show()"
      ],
      "metadata": {
        "colab": {
          "base_uri": "https://localhost:8080/"
        },
        "id": "pxHe6AJHuwX4",
        "outputId": "6b90421d-67c1-439f-a2e5-a06831126294"
      },
      "execution_count": 15,
      "outputs": [
        {
          "output_type": "stream",
          "name": "stdout",
          "text": [
            "+--------------------+--------------------+------+--------------------+------------+\n",
            "|   mother_profession|         type_sports|Gender|              weight|calories_day|\n",
            "+--------------------+--------------------+------+--------------------+------------+\n",
            "|          unemployed|          car racing|     2|                 187|         nan|\n",
            "|           Nurse RN |         Basketball |     1|                 155|           3|\n",
            "|       owns business|                none|     1|I'm not answering...|           4|\n",
            "|Substance Abuse C...|            Softball|     1|                 190|           2|\n",
            "|        Hair Braider|               None.|     1|                 190|           3|\n",
            "|          Journalist|              soccer|     2|                 180|           3|\n",
            "|                cook|                none|     1|                 137|           3|\n",
            "|Elementary School...|                none|     1|                 180|         nan|\n",
            "|  Pharmaceutical rep|        field hockey|     1|                 125|           3|\n",
            "|     Chidos Cleaners|              soccer|     1|                 116|           3|\n",
            "|     Court Reporter |             Running|     1|                 110|           4|\n",
            "|Child care provider |Soccer and basket...|     2|                 264|           3|\n",
            "|      business owner|intramural volley...|     1|                 123|           3|\n",
            "|      Charity worker|              Hockey|     2|                 185|           3|\n",
            "|           Librarian|              Hockey|     2|                 180|         nan|\n",
            "|              Police|                 nan|     1|                 145|           3|\n",
            "|    stay at home mom|              hockey|     2|                 170|           3|\n",
            "|    Daycare provider|            dancing |     1|                 135|           3|\n",
            "|  physical therapist|          basketball|     2|                 165|           2|\n",
            "|             Teacher|              Soccer|     2|                 175|           3|\n",
            "+--------------------+--------------------+------+--------------------+------------+\n",
            "only showing top 20 rows\n",
            "\n"
          ]
        }
      ]
    },
    {
      "cell_type": "code",
      "source": [
        "resultdf2 = resultdf1.filter(col('weight').rlike('^[0-9]*$'))\n",
        "resultdf2.show()"
      ],
      "metadata": {
        "colab": {
          "base_uri": "https://localhost:8080/"
        },
        "id": "LW6lpZ_hu8rj",
        "outputId": "f73c3d5f-3f2b-4e75-c82b-9c61ff314d93"
      },
      "execution_count": 19,
      "outputs": [
        {
          "output_type": "stream",
          "name": "stdout",
          "text": [
            "+--------------------+--------------------+------+------+------------+\n",
            "|   mother_profession|         type_sports|Gender|weight|calories_day|\n",
            "+--------------------+--------------------+------+------+------------+\n",
            "|          unemployed|          car racing|     2|   187|         nan|\n",
            "|           Nurse RN |         Basketball |     1|   155|           3|\n",
            "|Substance Abuse C...|            Softball|     1|   190|           2|\n",
            "|        Hair Braider|               None.|     1|   190|           3|\n",
            "|          Journalist|              soccer|     2|   180|           3|\n",
            "|                cook|                none|     1|   137|           3|\n",
            "|Elementary School...|                none|     1|   180|         nan|\n",
            "|  Pharmaceutical rep|        field hockey|     1|   125|           3|\n",
            "|     Chidos Cleaners|              soccer|     1|   116|           3|\n",
            "|     Court Reporter |             Running|     1|   110|           4|\n",
            "|Child care provider |Soccer and basket...|     2|   264|           3|\n",
            "|      business owner|intramural volley...|     1|   123|           3|\n",
            "|      Charity worker|              Hockey|     2|   185|           3|\n",
            "|           Librarian|              Hockey|     2|   180|         nan|\n",
            "|              Police|                 nan|     1|   145|           3|\n",
            "|    stay at home mom|              hockey|     2|   170|           3|\n",
            "|    Daycare provider|            dancing |     1|   135|           3|\n",
            "|  physical therapist|          basketball|     2|   165|           2|\n",
            "|             Teacher|              Soccer|     2|   175|           3|\n",
            "|          House wife|              Tennis|     2|   195|           3|\n",
            "+--------------------+--------------------+------+------+------------+\n",
            "only showing top 20 rows\n",
            "\n"
          ]
        }
      ]
    },
    {
      "cell_type": "code",
      "source": [
        "resultdf2.groupBy('Gender','weight').count().orderBy('weight').show()"
      ],
      "metadata": {
        "colab": {
          "base_uri": "https://localhost:8080/"
        },
        "id": "R9ra9wBFvfbM",
        "outputId": "5fb45b84-3f44-43be-d708-5f24a3629885"
      },
      "execution_count": 20,
      "outputs": [
        {
          "output_type": "stream",
          "name": "stdout",
          "text": [
            "+------+------+-----+\n",
            "|Gender|weight|count|\n",
            "+------+------+-----+\n",
            "|     1|     1|    1|\n",
            "|     1|   100|    1|\n",
            "|     1|   105|    1|\n",
            "|     1|   110|    1|\n",
            "|     1|   112|    1|\n",
            "|     1|   113|    1|\n",
            "|     1|   115|    1|\n",
            "|     1|   116|    1|\n",
            "|     1|   120|    3|\n",
            "|     1|   123|    1|\n",
            "|     1|   125|    4|\n",
            "|     1|   127|    1|\n",
            "|     1|   128|    2|\n",
            "|     1|   129|    2|\n",
            "|     1|   130|    3|\n",
            "|     1|   135|    7|\n",
            "|     2|   135|    1|\n",
            "|     1|   137|    1|\n",
            "|     2|   140|    2|\n",
            "|     1|   140|    6|\n",
            "+------+------+-----+\n",
            "only showing top 20 rows\n",
            "\n"
          ]
        }
      ]
    },
    {
      "cell_type": "code",
      "source": [
        "resultdf3 = resultdf2.select('type_sports', when(resultdf2.weight >= 150, 'Sobrepeso'))"
      ],
      "metadata": {
        "id": "YNhXweizvyUx"
      },
      "execution_count": 21,
      "outputs": []
    },
    {
      "cell_type": "code",
      "source": [
        "resultdf3.show()"
      ],
      "metadata": {
        "colab": {
          "base_uri": "https://localhost:8080/"
        },
        "id": "IhTZcauFwHrO",
        "outputId": "c233b3f9-3fb1-4974-f453-8234b395c62e"
      },
      "execution_count": 22,
      "outputs": [
        {
          "output_type": "stream",
          "name": "stdout",
          "text": [
            "+--------------------+--------------------------------------------+\n",
            "|         type_sports|CASE WHEN (weight >= 150) THEN Sobrepeso END|\n",
            "+--------------------+--------------------------------------------+\n",
            "|          car racing|                                   Sobrepeso|\n",
            "|         Basketball |                                   Sobrepeso|\n",
            "|            Softball|                                   Sobrepeso|\n",
            "|               None.|                                   Sobrepeso|\n",
            "|              soccer|                                   Sobrepeso|\n",
            "|                none|                                        NULL|\n",
            "|                none|                                   Sobrepeso|\n",
            "|        field hockey|                                        NULL|\n",
            "|              soccer|                                        NULL|\n",
            "|             Running|                                        NULL|\n",
            "|Soccer and basket...|                                   Sobrepeso|\n",
            "|intramural volley...|                                        NULL|\n",
            "|              Hockey|                                   Sobrepeso|\n",
            "|              Hockey|                                   Sobrepeso|\n",
            "|                 nan|                                        NULL|\n",
            "|              hockey|                                   Sobrepeso|\n",
            "|            dancing |                                        NULL|\n",
            "|          basketball|                                   Sobrepeso|\n",
            "|              Soccer|                                   Sobrepeso|\n",
            "|              Tennis|                                   Sobrepeso|\n",
            "+--------------------+--------------------------------------------+\n",
            "only showing top 20 rows\n",
            "\n"
          ]
        }
      ]
    },
    {
      "cell_type": "code",
      "source": [
        "resultdf4 = resultdf3.filter(resultdf3[1].isNotNull())"
      ],
      "metadata": {
        "id": "f3KwErOBwUgY"
      },
      "execution_count": 23,
      "outputs": []
    },
    {
      "cell_type": "code",
      "source": [
        "resultdf4.show()"
      ],
      "metadata": {
        "colab": {
          "base_uri": "https://localhost:8080/"
        },
        "id": "e_XtBbhBwlml",
        "outputId": "3b388424-cadd-4f43-9515-cf3d24b9a5f3"
      },
      "execution_count": 24,
      "outputs": [
        {
          "output_type": "stream",
          "name": "stdout",
          "text": [
            "+--------------------+--------------------------------------------+\n",
            "|         type_sports|CASE WHEN (weight >= 150) THEN Sobrepeso END|\n",
            "+--------------------+--------------------------------------------+\n",
            "|          car racing|                                   Sobrepeso|\n",
            "|         Basketball |                                   Sobrepeso|\n",
            "|            Softball|                                   Sobrepeso|\n",
            "|               None.|                                   Sobrepeso|\n",
            "|              soccer|                                   Sobrepeso|\n",
            "|                none|                                   Sobrepeso|\n",
            "|Soccer and basket...|                                   Sobrepeso|\n",
            "|              Hockey|                                   Sobrepeso|\n",
            "|              Hockey|                                   Sobrepeso|\n",
            "|              hockey|                                   Sobrepeso|\n",
            "|          basketball|                                   Sobrepeso|\n",
            "|              Soccer|                                   Sobrepeso|\n",
            "|              Tennis|                                   Sobrepeso|\n",
            "|   tennis soccer gym|                                   Sobrepeso|\n",
            "|     Gaelic Football|                                   Sobrepeso|\n",
            "|              Hockey|                                   Sobrepeso|\n",
            "|           Lacrosse |                                   Sobrepeso|\n",
            "|                 nan|                                   Sobrepeso|\n",
            "|                 nan|                                   Sobrepeso|\n",
            "|      none organized|                                   Sobrepeso|\n",
            "+--------------------+--------------------------------------------+\n",
            "only showing top 20 rows\n",
            "\n"
          ]
        }
      ]
    },
    {
      "cell_type": "code",
      "source": [
        "resultdf4.filter((resultdf3[0]!= 'none') & (resultdf3[0]!= 'nan') & (resultdf3[0]!= 'None') & (resultdf3[0]!= 'None.')).show()"
      ],
      "metadata": {
        "colab": {
          "base_uri": "https://localhost:8080/"
        },
        "id": "69F13GscwvvP",
        "outputId": "23e943a4-d8eb-4e7f-e9c7-4e79f3230ee8"
      },
      "execution_count": 26,
      "outputs": [
        {
          "output_type": "stream",
          "name": "stdout",
          "text": [
            "+--------------------+--------------------------------------------+\n",
            "|         type_sports|CASE WHEN (weight >= 150) THEN Sobrepeso END|\n",
            "+--------------------+--------------------------------------------+\n",
            "|          car racing|                                   Sobrepeso|\n",
            "|         Basketball |                                   Sobrepeso|\n",
            "|            Softball|                                   Sobrepeso|\n",
            "|              soccer|                                   Sobrepeso|\n",
            "|Soccer and basket...|                                   Sobrepeso|\n",
            "|              Hockey|                                   Sobrepeso|\n",
            "|              Hockey|                                   Sobrepeso|\n",
            "|              hockey|                                   Sobrepeso|\n",
            "|          basketball|                                   Sobrepeso|\n",
            "|              Soccer|                                   Sobrepeso|\n",
            "|              Tennis|                                   Sobrepeso|\n",
            "|   tennis soccer gym|                                   Sobrepeso|\n",
            "|     Gaelic Football|                                   Sobrepeso|\n",
            "|              Hockey|                                   Sobrepeso|\n",
            "|           Lacrosse |                                   Sobrepeso|\n",
            "|      none organized|                                   Sobrepeso|\n",
            "|            softball|                                   Sobrepeso|\n",
            "|            Lacrosse|                                   Sobrepeso|\n",
            "|           Softball |                                   Sobrepeso|\n",
            "|             Dancing|                                   Sobrepeso|\n",
            "+--------------------+--------------------------------------------+\n",
            "only showing top 20 rows\n",
            "\n"
          ]
        }
      ]
    }
  ]
}