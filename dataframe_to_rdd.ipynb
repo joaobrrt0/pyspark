{
 "cells": [
  {
   "cell_type": "code",
   "execution_count": 1,
   "id": "9f69c32f-4685-4469-8287-cc8b4569e952",
   "metadata": {},
   "outputs": [
    {
     "name": "stdout",
     "output_type": "stream",
     "text": [
      "Requirement already satisfied: pyspark in c:\\users\\user\\anaconda3\\lib\\site-packages (4.0.1)\n",
      "Requirement already satisfied: py4j==0.10.9.9 in c:\\users\\user\\anaconda3\\lib\\site-packages (from pyspark) (0.10.9.9)\n"
     ]
    }
   ],
   "source": [
    "!pip install pyspark"
   ]
  },
  {
   "cell_type": "code",
   "execution_count": 2,
   "id": "75fcaa80-015e-4fcf-86ea-277ed506da4b",
   "metadata": {},
   "outputs": [],
   "source": [
    "from pyspark.sql import SparkSession"
   ]
  },
  {
   "cell_type": "code",
   "execution_count": 1,
   "id": "46159716-1fcf-40a4-a7a2-7426b5b4373a",
   "metadata": {},
   "outputs": [
    {
     "name": "stdout",
     "output_type": "stream",
     "text": [
      "Requirement already satisfied: findspark in c:\\users\\user\\anaconda3\\lib\\site-packages (2.0.1)\n",
      "Note: you may need to restart the kernel to use updated packages.\n"
     ]
    }
   ],
   "source": [
    "pip install findspark"
   ]
  },
  {
   "cell_type": "code",
   "execution_count": 3,
   "id": "e857362b-ff13-4638-847d-2feb0d28627a",
   "metadata": {},
   "outputs": [
    {
     "name": "stdout",
     "output_type": "stream",
     "text": [
      "SparkSession created successfully!\n",
      "<pyspark.sql.session.SparkSession object at 0x000002259DE752B0>\n"
     ]
    }
   ],
   "source": [
    "import findspark\n",
    "findspark.init()\n",
    "\n",
    "from pyspark.sql import SparkSession\n",
    "\n",
    "spark = SparkSession.builder \\\n",
    "    .appName(\"YourApplicationName\") \\\n",
    "    .master(\"local[*]\") \\\n",
    "    .config(\"spark.sql.shuffle.partitions\", \"4\") \\\n",
    "    .getOrCreate()\n",
    "\n",
    "print(\"SparkSession created successfully!\")\n",
    "print(spark)"
   ]
  },
  {
   "cell_type": "code",
   "execution_count": 4,
   "id": "ebbbda47-4288-4b94-a4f8-892597a6859d",
   "metadata": {},
   "outputs": [
    {
     "data": {
      "text/plain": [
       "DataFrame[Cidade: string, Populacao: double, Time: string, Dat_cadastro: date]"
      ]
     },
     "execution_count": 4,
     "metadata": {},
     "output_type": "execute_result"
    }
   ],
   "source": [
    "from datetime import datetime, date\n",
    "from pyspark.sql import Row\n",
    "\n",
    "datf = spark.createDataFrame([\n",
    "    Row(Cidade='Salvador', Populacao=6., Time='Bahia', Dat_cadastro=date(2021, 10, 10)),\n",
    "    Row(Cidade='Sao Paulo', Populacao=45., Time='Sao Paulo', Dat_cadastro=date(2021, 5, 5)),\n",
    "    Row(Cidade='Recife', Populacao=3., Time='Sport', Dat_cadastro=date(2021, 7, 2)),\n",
    "    Row(Cidade='Maceio', Populacao=2., Time='CSA', Dat_cadastro=date(2021, 8, 1))\n",
    "])\n",
    "\n",
    "datf"
   ]
  },
  {
   "cell_type": "code",
   "execution_count": null,
   "id": "f39c0291-3d4f-42ec-9a3b-bea282a889d2",
   "metadata": {},
   "outputs": [],
   "source": [
    "datf.show()"
   ]
  },
  {
   "cell_type": "code",
   "execution_count": null,
   "id": "6918d48f-2499-4f5f-80b8-5dfffb9f8924",
   "metadata": {},
   "outputs": [],
   "source": [
    "datf.collect()"
   ]
  },
  {
   "cell_type": "code",
   "execution_count": null,
   "id": "8ca9d762-8e43-4a0b-be49-498bacb5cfa7",
   "metadata": {},
   "outputs": [],
   "source": [
    "datf.select(\"Cidade\",\"Populacao\").descbribe.show"
   ]
  },
  {
   "cell_type": "code",
   "execution_count": null,
   "id": "fceb11d7-d34e-4fcb-b31c-a461228dbc64",
   "metadata": {},
   "outputs": [],
   "source": [
    "datf.schema()"
   ]
  },
  {
   "cell_type": "code",
   "execution_count": null,
   "id": "2fc519d3-a0a7-40a9-ba9c-69c7faeeb94e",
   "metadata": {},
   "outputs": [],
   "source": [
    "from pyspark.sql.functions import upper\n",
    "datf.withColumn('Cidade_U', upper(datf.cidade)).show()"
   ]
  },
  {
   "cell_type": "code",
   "execution_count": null,
   "id": "e914e03f-b3d8-46f3-8174-8c666d60f3c5",
   "metadata": {},
   "outputs": [],
   "source": [
    "datf.filter(datf.Cidade == \"Salvador\").show()\n"
   ]
  },
  {
   "cell_type": "code",
   "execution_count": null,
   "id": "6b5fef88-fade-45d7-83cd-ddc431a6d168",
   "metadata": {},
   "outputs": [],
   "source": [
    "datf.createOrReplaceTempView(\"Dados\")\n",
    "spark.sql(\"select count(*) from Dados\").show()"
   ]
  },
  {
   "cell_type": "code",
   "execution_count": null,
   "id": "1e3a6a9e-cb9d-4009-b42e-94db542bfaac",
   "metadata": {},
   "outputs": [],
   "source": [
    "pais = [(\"Brasil\",10000),(\"Argentina\",20000),(\"Australia\",35000),(\"Italia\",40000),(\"Egito\",65000),(\"Mexico\",80000)]\n",
    "rddpais = spark.sparkContext.parallelize(pais)"
   ]
  },
  {
   "cell_type": "code",
   "execution_count": null,
   "id": "31dbed21-3442-4060-9ebe-73dc78878557",
   "metadata": {},
   "outputs": [],
   "source": [
    "dataframerdd = rddpais.toDF()"
   ]
  },
  {
   "cell_type": "code",
   "execution_count": null,
   "id": "5168223f-de4c-4a3d-a431-989d06dcf1b8",
   "metadata": {},
   "outputs": [],
   "source": [
    "dataframerdd.show()"
   ]
  },
  {
   "cell_type": "code",
   "execution_count": null,
   "id": "93229ee5-11b3-45ab-941f-344ec89246b8",
   "metadata": {},
   "outputs": [],
   "source": [
    "Colunas = [\"Pais\",\"Total_capital(Bilhoes)\"]\n",
    "dataframerdd2 = rddpais.toDF(Colunas)\n",
    "dataframerdd2.printSchema()\n",
    "dataframerdd2.show(truncate=False)"
   ]
  },
  {
   "cell_type": "code",
   "execution_count": null,
   "id": "9fb22878-1e10-4e2e-91aa-63b55d3f6d52",
   "metadata": {},
   "outputs": [],
   "source": []
  }
 ],
 "metadata": {
  "kernelspec": {
   "display_name": "Python 3 (ipykernel)",
   "language": "python",
   "name": "python3"
  },
  "language_info": {
   "codemirror_mode": {
    "name": "ipython",
    "version": 3
   },
   "file_extension": ".py",
   "mimetype": "text/x-python",
   "name": "python",
   "nbconvert_exporter": "python",
   "pygments_lexer": "ipython3",
   "version": "3.13.5"
  }
 },
 "nbformat": 4,
 "nbformat_minor": 5
}
