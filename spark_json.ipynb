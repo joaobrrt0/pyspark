{
  "nbformat": 4,
  "nbformat_minor": 0,
  "metadata": {
    "colab": {
      "provenance": []
    },
    "kernelspec": {
      "name": "python3",
      "display_name": "Python 3"
    },
    "language_info": {
      "name": "python"
    }
  },
  "cells": [
    {
      "cell_type": "markdown",
      "source": [
        "##CARREGAR ARQUIVOS JSON\n",
        "\n",
        "\n",
        "carregar os arquivos de dados JSON\n",
        "\n",
        "\n",
        "entender o Schema gerado pelo arquivo\n",
        "\n",
        "separa-los em fragmentos\n",
        "\n",
        "criar uma visao com os dados para analisar dentro do SPARK.SQL\n",
        "\n",
        "mostrar as frases com sentimentos negativos\n"
      ],
      "metadata": {
        "id": "-R04UHyYa1gP"
      }
    },
    {
      "cell_type": "code",
      "execution_count": 1,
      "metadata": {
        "colab": {
          "base_uri": "https://localhost:8080/"
        },
        "id": "y5_bsEDZaA2y",
        "outputId": "aa80080d-997c-4cd9-8812-9c6239b2317b"
      },
      "outputs": [
        {
          "output_type": "stream",
          "name": "stdout",
          "text": [
            "Collecting spark\n",
            "  Downloading spark-0.2.1.tar.gz (41 kB)\n",
            "\u001b[?25l     \u001b[90m━━━━━━━━━━━━━━━━━━━━━━━━━━━━━━━━━━━━━━━━\u001b[0m \u001b[32m0.0/41.0 kB\u001b[0m \u001b[31m?\u001b[0m eta \u001b[36m-:--:--\u001b[0m\r\u001b[2K     \u001b[90m━━━━━━━━━━━━━━━━━━━━━━━━━━━━━━━━━━━━━━━━\u001b[0m \u001b[32m41.0/41.0 kB\u001b[0m \u001b[31m1.8 MB/s\u001b[0m eta \u001b[36m0:00:00\u001b[0m\n",
            "\u001b[?25h  Preparing metadata (setup.py) ... \u001b[?25l\u001b[?25hdone\n",
            "Building wheels for collected packages: spark\n",
            "  Building wheel for spark (setup.py) ... \u001b[?25l\u001b[?25hdone\n",
            "  Created wheel for spark: filename=spark-0.2.1-py3-none-any.whl size=58748 sha256=439bf4e7d9f9c33a11511a60d1b892b668bc4706099dff6d6cf7963707bf037b\n",
            "  Stored in directory: /root/.cache/pip/wheels/6f/db/e2/945dc8c17477cf9ab56d9f9aa1fa75b75335fffff9b12d867d\n",
            "Successfully built spark\n",
            "Installing collected packages: spark\n",
            "Successfully installed spark-0.2.1\n"
          ]
        }
      ],
      "source": [
        "!pip install spark"
      ]
    },
    {
      "cell_type": "code",
      "source": [
        "from pyspark.sql import SparkSession\n",
        "sparksession = SparkSession.builder.appName(\"sentimento\").getOrCreate()"
      ],
      "metadata": {
        "id": "95pmKxbCbQRG"
      },
      "execution_count": 3,
      "outputs": []
    },
    {
      "cell_type": "code",
      "source": [
        "path = \"sentimento.json\"\n",
        "sentimentoDF =  sparksession.read.json(path, multiLine= \"true\")"
      ],
      "metadata": {
        "id": "fxyxf1VobuKO"
      },
      "execution_count": 5,
      "outputs": []
    },
    {
      "cell_type": "code",
      "source": [
        "sentimentoDF.show()"
      ],
      "metadata": {
        "colab": {
          "base_uri": "https://localhost:8080/"
        },
        "id": "OzD1n83bcD8S",
        "outputId": "01609d0f-5822-4c1c-c569-c4bc8d281ccb"
      },
      "execution_count": 6,
      "outputs": [
        {
          "output_type": "stream",
          "name": "stdout",
          "text": [
            "+--------------------+--------------------+\n",
            "|             context|                 qas|\n",
            "+--------------------+--------------------+\n",
            "|spent the entire ...|[{[{55, my boss w...|\n",
            "| oh! good idea ab...|[{[{5, good}], 25...|\n",
            "|says good (or sho...|[{[{0, says good ...|\n",
            "| i dont think you...|[{[{1, i dont thi...|\n",
            "| haha better drun...|[{[{6, better}], ...|\n",
            "|headache  wanna s...|[{[{0, headache}]...|\n",
            "|had an awsome sal...|[{[{0, had an aws...|\n",
            "| fine! going to d...|[{[{1, fine!}], a...|\n",
            "| thank a yoou  ho...|[{[{1, thank}], a...|\n",
            "|why don't adobe r...|[{[{0, why don't ...|\n",
            "|prd take a long t...|[{[{0, prd take a...|\n",
            "|_2008 well, havin...|[{[{1, 2008 well,...|\n",
            "|    miss you my dear|[{[{1, miss you m...|\n",
            "|have just bought ...|[{[{0, have just ...|\n",
            "| ya mine too but ...|[{[{1, ya mine to...|\n",
            "|today dan bought ...|[{[{107, , my tum...|\n",
            "| oo noo thats not...|[{[{12, s not goo...|\n",
            "|misses her phone....|[{[{20, having no...|\n",
            "|so i have like no...|[{[{15, no more f...|\n",
            "|i have perused th...|[{[{0, i have per...|\n",
            "+--------------------+--------------------+\n",
            "only showing top 20 rows\n",
            "\n"
          ]
        }
      ]
    },
    {
      "cell_type": "code",
      "source": [
        "sentimentoDF.printSchema()"
      ],
      "metadata": {
        "colab": {
          "base_uri": "https://localhost:8080/"
        },
        "id": "NEA-2MeycK-T",
        "outputId": "71182770-336d-4597-eb8f-405f5a5ab8c0"
      },
      "execution_count": 7,
      "outputs": [
        {
          "output_type": "stream",
          "name": "stdout",
          "text": [
            "root\n",
            " |-- context: string (nullable = true)\n",
            " |-- qas: array (nullable = true)\n",
            " |    |-- element: struct (containsNull = true)\n",
            " |    |    |-- answers: array (nullable = true)\n",
            " |    |    |    |-- element: struct (containsNull = true)\n",
            " |    |    |    |    |-- answer_start: long (nullable = true)\n",
            " |    |    |    |    |-- text: string (nullable = true)\n",
            " |    |    |-- id: string (nullable = true)\n",
            " |    |    |-- is_impossible: boolean (nullable = true)\n",
            " |    |    |-- question: string (nullable = true)\n",
            "\n"
          ]
        }
      ]
    },
    {
      "cell_type": "code",
      "source": [
        "sent2DF = sentimentoDF.select(\"context\",\"qas.id\", \"qas.is_impossible\",\"qas.question\")\n",
        "sent2DF.printSchema()"
      ],
      "metadata": {
        "colab": {
          "base_uri": "https://localhost:8080/"
        },
        "id": "ZXs310cDcZIW",
        "outputId": "6defdde4-8029-4b23-d3ae-455a74e2d152"
      },
      "execution_count": 10,
      "outputs": [
        {
          "output_type": "stream",
          "name": "stdout",
          "text": [
            "root\n",
            " |-- context: string (nullable = true)\n",
            " |-- id: array (nullable = true)\n",
            " |    |-- element: string (containsNull = true)\n",
            " |-- is_impossible: array (nullable = true)\n",
            " |    |-- element: boolean (containsNull = true)\n",
            " |-- question: array (nullable = true)\n",
            " |    |-- element: string (containsNull = true)\n",
            "\n"
          ]
        }
      ]
    },
    {
      "cell_type": "code",
      "source": [
        "sent2DF.show(10,False)"
      ],
      "metadata": {
        "colab": {
          "base_uri": "https://localhost:8080/"
        },
        "id": "Vq8R3MGPc9J_",
        "outputId": "187f2f9b-9875-475a-d266-0b83ab963e2d"
      },
      "execution_count": 11,
      "outputs": [
        {
          "output_type": "stream",
          "name": "stdout",
          "text": [
            "+------------------------------------------------------------------------------------------------------------------------------------+------------+-------------+----------+\n",
            "|context                                                                                                                             |id          |is_impossible|question  |\n",
            "+------------------------------------------------------------------------------------------------------------------------------------+------------+-------------+----------+\n",
            "|spent the entire morning in a meeting w/ a vendor, and my boss was not happy w/ them. lots of fun.  i had other plans for my morning|[a3d0a7d5ad]|[false]      |[neutral] |\n",
            "| oh! good idea about putting them on ice cream                                                                                      |[251b6a6766]|[false]      |[positive]|\n",
            "|says good (or should i say bad?) afternoon!  http://plurk.com/p/wxpdj                                                               |[c9e8d1ef1c]|[false]      |[neutral] |\n",
            "| i dont think you can vote anymore! i tried                                                                                         |[f14f087215]|[false]      |[negative]|\n",
            "| haha better drunken tweeting you mean?                                                                                             |[bf7473b12d]|[false]      |[positive]|\n",
            "|headache  wanna see my julie                                                                                                        |[1915bebcb3]|[false]      |[negative]|\n",
            "|had an awsome salad! i recommend getting the spicey buffalo chicken salad!                                                          |[2ab82634d5]|[false]      |[positive]|\n",
            "| fine! going to do my big walk today 20 or so miles                                                                                 |[a5a1c996c0]|[false]      |[positive]|\n",
            "| thank a yoou  how are you? #twittertakeover                                                                                        |[a182b2638e]|[false]      |[positive]|\n",
            "|why don't adobe realise no one wants to pay for photoshop et al so they should just give it to us for free                          |[1dcb6fdb13]|[false]      |[neutral] |\n",
            "+------------------------------------------------------------------------------------------------------------------------------------+------------+-------------+----------+\n",
            "only showing top 10 rows\n",
            "\n"
          ]
        }
      ]
    },
    {
      "cell_type": "code",
      "source": [
        "sent3DF = sentimentoDF.select(\"context\", \"qas.question\")\n",
        "sent3DF.show()"
      ],
      "metadata": {
        "colab": {
          "base_uri": "https://localhost:8080/"
        },
        "id": "r_i9x72DdGna",
        "outputId": "5355d255-fdc1-4cdf-8ff7-02170d6b7e71"
      },
      "execution_count": 12,
      "outputs": [
        {
          "output_type": "stream",
          "name": "stdout",
          "text": [
            "+--------------------+----------+\n",
            "|             context|  question|\n",
            "+--------------------+----------+\n",
            "|spent the entire ...| [neutral]|\n",
            "| oh! good idea ab...|[positive]|\n",
            "|says good (or sho...| [neutral]|\n",
            "| i dont think you...|[negative]|\n",
            "| haha better drun...|[positive]|\n",
            "|headache  wanna s...|[negative]|\n",
            "|had an awsome sal...|[positive]|\n",
            "| fine! going to d...|[positive]|\n",
            "| thank a yoou  ho...|[positive]|\n",
            "|why don't adobe r...| [neutral]|\n",
            "|prd take a long t...| [neutral]|\n",
            "|_2008 well, havin...| [neutral]|\n",
            "|    miss you my dear|[negative]|\n",
            "|have just bought ...|[positive]|\n",
            "| ya mine too but ...| [neutral]|\n",
            "|today dan bought ...|[negative]|\n",
            "| oo noo thats not...|[negative]|\n",
            "|misses her phone....|[negative]|\n",
            "|so i have like no...|[negative]|\n",
            "|i have perused th...| [neutral]|\n",
            "+--------------------+----------+\n",
            "only showing top 20 rows\n",
            "\n"
          ]
        }
      ]
    },
    {
      "cell_type": "code",
      "source": [
        "sent3DF.createOrReplaceTempView(\"sentimentos\")"
      ],
      "metadata": {
        "id": "DD13kKHpds-j"
      },
      "execution_count": 15,
      "outputs": []
    },
    {
      "cell_type": "code",
      "source": [
        "sparksession.sql(\"select context from sentimentos where context like '%hope%'\").show()"
      ],
      "metadata": {
        "colab": {
          "base_uri": "https://localhost:8080/"
        },
        "id": "y6SCvmI3dxdb",
        "outputId": "9e650df1-8d0c-48f1-f485-6d97dc81ea23"
      },
      "execution_count": 16,
      "outputs": [
        {
          "output_type": "stream",
          "name": "stdout",
          "text": [
            "+--------------------+\n",
            "|             context|\n",
            "+--------------------+\n",
            "|get into me not g...|\n",
            "| sorry to hear ab...|\n",
            "| aww im sorry im ...|\n",
            "|  hope you have a...|\n",
            "|  is there going ...|\n",
            "| you can find mor...|\n",
            "|is predicting a h...|\n",
            "| soon i hope... r...|\n",
            "| aww hope uve had...|\n",
            "| good evening ter...|\n",
            "|just woke up, hop...|\n",
            "| well sure hope t...|\n",
            "|  that's no bueno...|\n",
            "| i hope you had f...|\n",
            "| i hope it's some...|\n",
            "| oh no! hope you ...|\n",
            "|yeha i broke thei...|\n",
            "|back from brunch....|\n",
            "|not feeling too g...|\n",
            "| i hope you feel ...|\n",
            "+--------------------+\n",
            "only showing top 20 rows\n",
            "\n"
          ]
        }
      ]
    },
    {
      "cell_type": "code",
      "source": [
        "sent4DF = sparksession.sql(\"select context, question, concat_ws(',',question)\" + \\\n",
        "                         \"as tps from sentimentos\")"
      ],
      "metadata": {
        "id": "8rw6Q7BqeAuQ"
      },
      "execution_count": 20,
      "outputs": []
    },
    {
      "cell_type": "code",
      "source": [
        "sent4DF.createOrReplaceTempView(\"tipo_sentimento\")\n"
      ],
      "metadata": {
        "id": "Y3TVBC-Sezr0"
      },
      "execution_count": 22,
      "outputs": []
    },
    {
      "cell_type": "code",
      "source": [
        "sparksession.sql(\"select context, question from tipo_sentimento where tps = 'negative'\").show()"
      ],
      "metadata": {
        "colab": {
          "base_uri": "https://localhost:8080/"
        },
        "id": "-oB3RGGoe4Od",
        "outputId": "db0510cb-aa8f-49b8-99bc-3eca4b64d816"
      },
      "execution_count": 24,
      "outputs": [
        {
          "output_type": "stream",
          "name": "stdout",
          "text": [
            "+--------------------+----------+\n",
            "|             context|  question|\n",
            "+--------------------+----------+\n",
            "| i dont think you...|[negative]|\n",
            "|headache  wanna s...|[negative]|\n",
            "|    miss you my dear|[negative]|\n",
            "|today dan bought ...|[negative]|\n",
            "| oo noo thats not...|[negative]|\n",
            "|misses her phone....|[negative]|\n",
            "|so i have like no...|[negative]|\n",
            "|also i popped the...|[negative]|\n",
            "|               uh oh|[negative]|\n",
            "| what brody how d...|[negative]|\n",
            "|i feel useless i ...|[negative]|\n",
            "|kate is leaving m...|[negative]|\n",
            "|i lost a follower...|[negative]|\n",
            "| saying goodbye t...|[negative]|\n",
            "|just got back in,...|[negative]|\n",
            "|   my dog ran awayyy|[negative]|\n",
            "|is missing someon...|[negative]|\n",
            "| s'ok, trying to ...|[negative]|\n",
            "|hot ****, i'm at ...|[negative]|\n",
            "|just figured out ...|[negative]|\n",
            "+--------------------+----------+\n",
            "only showing top 20 rows\n",
            "\n"
          ]
        }
      ]
    },
    {
      "cell_type": "code",
      "source": [
        "sparksession.sql(\"select tps, count(*) from tipo_sentimento group by tps \").show()"
      ],
      "metadata": {
        "colab": {
          "base_uri": "https://localhost:8080/"
        },
        "id": "29uX50BmfQMM",
        "outputId": "4bbe0bfd-a8f6-4c5a-d5ae-bde3375492f8"
      },
      "execution_count": 25,
      "outputs": [
        {
          "output_type": "stream",
          "name": "stdout",
          "text": [
            "+--------+--------+\n",
            "|     tps|count(1)|\n",
            "+--------+--------+\n",
            "|positive|    8582|\n",
            "| neutral|   11117|\n",
            "|negative|    7786|\n",
            "+--------+--------+\n",
            "\n"
          ]
        }
      ]
    }
  ]
}